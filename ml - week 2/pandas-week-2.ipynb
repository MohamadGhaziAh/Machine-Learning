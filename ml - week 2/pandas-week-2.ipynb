{
 "cells": [
  {
   "cell_type": "code",
   "execution_count": 1,
   "id": "bd07f582",
   "metadata": {
    "_cell_guid": "b1076dfc-b9ad-4769-8c92-a6c4dae69d19",
    "_uuid": "8f2839f25d086af736a60e9eeb907d3b93b6e0e5",
    "execution": {
     "iopub.execute_input": "2023-03-10T15:42:39.001531Z",
     "iopub.status.busy": "2023-03-10T15:42:39.000540Z",
     "iopub.status.idle": "2023-03-10T15:42:39.014275Z",
     "shell.execute_reply": "2023-03-10T15:42:39.013109Z"
    },
    "papermill": {
     "duration": 0.022141,
     "end_time": "2023-03-10T15:42:39.017247",
     "exception": false,
     "start_time": "2023-03-10T15:42:38.995106",
     "status": "completed"
    },
    "tags": []
   },
   "outputs": [],
   "source": [
    "\n",
    "import pandas as pd\n",
    "import os"
   ]
  },
  {
   "cell_type": "code",
   "execution_count": 2,
   "id": "3d55e796",
   "metadata": {
    "execution": {
     "iopub.execute_input": "2023-03-10T15:42:39.023990Z",
     "iopub.status.busy": "2023-03-10T15:42:39.023532Z",
     "iopub.status.idle": "2023-03-10T15:42:39.066624Z",
     "shell.execute_reply": "2023-03-10T15:42:39.065099Z"
    },
    "papermill": {
     "duration": 0.049863,
     "end_time": "2023-03-10T15:42:39.069613",
     "exception": false,
     "start_time": "2023-03-10T15:42:39.019750",
     "status": "completed"
    },
    "tags": []
   },
   "outputs": [
    {
     "name": "stdout",
     "output_type": "stream",
     "text": [
      "      name  age      city\n",
      "0    Alice   25  New York\n",
      "1      Bob   30     Paris\n",
      "2  Charlie   35    London\n",
      "3    David   40     Tokyo\n",
      "0      Alice\n",
      "1        Bob\n",
      "2    Charlie\n",
      "3      David\n",
      "Name: name, dtype: object\n",
      "0    25\n",
      "1    30\n",
      "2    35\n",
      "3    40\n",
      "Name: age, dtype: int64\n",
      "name       Alice\n",
      "age           25\n",
      "city    New York\n",
      "Name: 0, dtype: object\n",
      "name    Charlie\n",
      "age          35\n",
      "city     London\n",
      "Name: 2, dtype: object\n",
      "      name  age    city\n",
      "2  Charlie   35  London\n",
      "3    David   40   Tokyo\n",
      "           age\n",
      "city          \n",
      "London    35.0\n",
      "New York  25.0\n",
      "Paris     30.0\n",
      "Tokyo     40.0\n"
     ]
    }
   ],
   "source": [
    "# create a DataFrame with some data\n",
    "data = {\n",
    "    \"name\": [\"Alice\", \"Bob\", \"Charlie\", \"David\"],\n",
    "    \"age\": [25, 30, 35, 40],\n",
    "    \"city\": [\"New York\", \"Paris\", \"London\", \"Tokyo\"]\n",
    "}\n",
    "df = pd.DataFrame(data)\n",
    "\n",
    "# print the DataFrame\n",
    "print(df)\n",
    "\n",
    "# access columns of the DataFrame\n",
    "print(df[\"name\"])\n",
    "print(df[\"age\"])\n",
    "\n",
    "# access rows of the DataFrame\n",
    "print(df.iloc[0])\n",
    "print(df.iloc[2])\n",
    "\n",
    "# filter rows of the DataFrame\n",
    "filtered_df = df[df[\"age\"] > 30]\n",
    "print(filtered_df)\n",
    "\n",
    "# group data in the DataFrame\n",
    "grouped_df = df.groupby(\"city\").mean()\n",
    "print(grouped_df)"
   ]
  },
  {
   "cell_type": "code",
   "execution_count": 3,
   "id": "ba8ad0d2",
   "metadata": {
    "execution": {
     "iopub.execute_input": "2023-03-10T15:42:39.076348Z",
     "iopub.status.busy": "2023-03-10T15:42:39.075626Z",
     "iopub.status.idle": "2023-03-10T15:42:39.081950Z",
     "shell.execute_reply": "2023-03-10T15:42:39.080750Z"
    },
    "papermill": {
     "duration": 0.01336,
     "end_time": "2023-03-10T15:42:39.085449",
     "exception": false,
     "start_time": "2023-03-10T15:42:39.072089",
     "status": "completed"
    },
    "tags": []
   },
   "outputs": [
    {
     "name": "stdout",
     "output_type": "stream",
     "text": [
      "['studentcsv']\n"
     ]
    }
   ],
   "source": [
    "print(os.listdir('/kaggle/input'))"
   ]
  },
  {
   "cell_type": "code",
   "execution_count": 4,
   "id": "b7d14eb1",
   "metadata": {
    "execution": {
     "iopub.execute_input": "2023-03-10T15:42:39.093606Z",
     "iopub.status.busy": "2023-03-10T15:42:39.092389Z",
     "iopub.status.idle": "2023-03-10T15:42:39.126577Z",
     "shell.execute_reply": "2023-03-10T15:42:39.123721Z"
    },
    "papermill": {
     "duration": 0.041275,
     "end_time": "2023-03-10T15:42:39.129651",
     "exception": false,
     "start_time": "2023-03-10T15:42:39.088376",
     "status": "completed"
    },
    "tags": []
   },
   "outputs": [
    {
     "name": "stdout",
     "output_type": "stream",
     "text": [
      "   id        name  class  mark  gender\n",
      "0   1    John Deo   Four    75  female\n",
      "1   2    Max Ruin  Three    85    male\n",
      "2   3      Arnold  Three    55    male\n",
      "3   4  Krish Star   Four    60  female\n",
      "4   5   John Mike   Four    60  female\n",
      "0        John Deo\n",
      "1        Max Ruin\n",
      "2          Arnold\n",
      "3      Krish Star\n",
      "4       John Mike\n",
      "5       Alex John\n",
      "6     My John Rob\n",
      "7          Asruid\n",
      "8         Tes Qry\n",
      "9        Big John\n",
      "10         Ronald\n",
      "11          Recky\n",
      "12            Kty\n",
      "13           Bigy\n",
      "14       Tade Row\n",
      "15          Gimmy\n",
      "16          Tumyu\n",
      "17          Honny\n",
      "18          Tinny\n",
      "19         Jackly\n",
      "20     Babby John\n",
      "21         Reggid\n",
      "22          Herod\n",
      "23      Tiddy Now\n",
      "24       Giff Tow\n",
      "25         Crelea\n",
      "26       Big Nose\n",
      "27      Rojj Base\n",
      "28    Tess Played\n",
      "29      Reppy Red\n",
      "30    Marry Toeey\n",
      "31      Binn Rott\n",
      "32      Kenn Rein\n",
      "33       Gain Toe\n",
      "34     Rows Noump\n",
      "Name: name, dtype: object\n",
      "0     75\n",
      "1     85\n",
      "2     55\n",
      "3     60\n",
      "4     60\n",
      "5     55\n",
      "6     78\n",
      "7     85\n",
      "8     78\n",
      "9     55\n",
      "10    89\n",
      "11    94\n",
      "12    88\n",
      "13    88\n",
      "14    88\n",
      "15    88\n",
      "16    54\n",
      "17    75\n",
      "18    18\n",
      "19    65\n",
      "20    69\n",
      "21    55\n",
      "22    79\n",
      "23    78\n",
      "24    88\n",
      "25    79\n",
      "26    81\n",
      "27    86\n",
      "28    55\n",
      "29    79\n",
      "30    88\n",
      "31    90\n",
      "32    96\n",
      "33    69\n",
      "34    88\n",
      "Name: mark, dtype: int64\n",
      "id               1\n",
      "name      John Deo\n",
      "class         Four\n",
      "mark            75\n",
      "gender      female\n",
      "Name: 0, dtype: object\n",
      "id             3\n",
      "name      Arnold\n",
      "class      Three\n",
      "mark          55\n",
      "gender      male\n",
      "Name: 2, dtype: object\n",
      "    id         name  class  mark  gender\n",
      "0    1     John Deo   Four    75  female\n",
      "1    2     Max Ruin  Three    85    male\n",
      "6    7  My John Rob  Fifth    78    male\n",
      "7    8       Asruid   Five    85    male\n",
      "8    9      Tes Qry    Six    78    male\n",
      "10  11       Ronald    Six    89  female\n",
      "11  12        Recky    Six    94  female\n",
      "12  13          Kty  Seven    88  female\n",
      "13  14         Bigy  Seven    88  female\n",
      "14  15     Tade Row   Four    88    male\n",
      "15  16        Gimmy   Four    88    male\n",
      "17  18        Honny   Five    75    male\n",
      "19  20       Jackly   Nine    65  female\n",
      "20  21   Babby John   Four    69  female\n",
      "22  23        Herod  Eight    79    male\n",
      "23  24    Tiddy Now  Seven    78    male\n",
      "24  25     Giff Tow  Seven    88    male\n",
      "25  26       Crelea  Seven    79    male\n",
      "26  27     Big Nose  Three    81  female\n",
      "27  28    Rojj Base  Seven    86  female\n",
      "29  30    Reppy Red    Six    79  female\n",
      "30  31  Marry Toeey   Four    88    male\n",
      "31  32    Binn Rott  Seven    90  female\n",
      "32  33    Kenn Rein    Six    96  female\n",
      "33  34     Gain Toe  Seven    69    male\n",
      "34  35   Rows Noump    Six    88  female\n",
      "               id       mark\n",
      "gender                      \n",
      "female  18.705882  77.529412\n",
      "male    17.333333  71.944444\n"
     ]
    }
   ],
   "source": [
    "# read data from a CSV file into a DataFrame\n",
    "df = pd.read_csv(\"/kaggle/input/studentcsv/student.csv\")\n",
    "\n",
    "# print the first few rows of the DataFrame\n",
    "print(df.head())\n",
    "\n",
    "# access columns of the DataFrame\n",
    "print(df[\"name\"])\n",
    "print(df[\"mark\"])\n",
    "\n",
    "# access rows of the DataFrame\n",
    "print(df.iloc[0])\n",
    "print(df.iloc[2])\n",
    "\n",
    "# filter rows of the DataFrame\n",
    "filtered_df = df[df[\"mark\"] > 60]\n",
    "print(filtered_df)\n",
    "\n",
    "# group data in the DataFrame\n",
    "grouped_df = df.groupby(\"gender\").mean()\n",
    "print(grouped_df)\n"
   ]
  }
 ],
 "metadata": {
  "kernelspec": {
   "display_name": "Python 3",
   "language": "python",
   "name": "python3"
  },
  "language_info": {
   "codemirror_mode": {
    "name": "ipython",
    "version": 3
   },
   "file_extension": ".py",
   "mimetype": "text/x-python",
   "name": "python",
   "nbconvert_exporter": "python",
   "pygments_lexer": "ipython3",
   "version": "3.7.12"
  },
  "papermill": {
   "default_parameters": {},
   "duration": 12.309141,
   "end_time": "2023-03-10T15:42:39.856371",
   "environment_variables": {},
   "exception": null,
   "input_path": "__notebook__.ipynb",
   "output_path": "__notebook__.ipynb",
   "parameters": {},
   "start_time": "2023-03-10T15:42:27.547230",
   "version": "2.4.0"
  }
 },
 "nbformat": 4,
 "nbformat_minor": 5
}
