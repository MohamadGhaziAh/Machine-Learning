{
 "cells": [
  {
   "cell_type": "code",
   "execution_count": 1,
   "id": "4ebcc5b8",
   "metadata": {
    "execution": {
     "iopub.execute_input": "2023-03-10T15:22:56.075964Z",
     "iopub.status.busy": "2023-03-10T15:22:56.075490Z",
     "iopub.status.idle": "2023-03-10T15:22:56.085554Z",
     "shell.execute_reply": "2023-03-10T15:22:56.084488Z"
    },
    "papermill": {
     "duration": 0.023868,
     "end_time": "2023-03-10T15:22:56.088448",
     "exception": false,
     "start_time": "2023-03-10T15:22:56.064580",
     "status": "completed"
    },
    "tags": []
   },
   "outputs": [],
   "source": [
    "import numpy as np"
   ]
  },
  {
   "cell_type": "code",
   "execution_count": 2,
   "id": "842420be",
   "metadata": {
    "execution": {
     "iopub.execute_input": "2023-03-10T15:22:56.107161Z",
     "iopub.status.busy": "2023-03-10T15:22:56.106277Z",
     "iopub.status.idle": "2023-03-10T15:22:56.117146Z",
     "shell.execute_reply": "2023-03-10T15:22:56.115754Z"
    },
    "papermill": {
     "duration": 0.024323,
     "end_time": "2023-03-10T15:22:56.120802",
     "exception": false,
     "start_time": "2023-03-10T15:22:56.096479",
     "status": "completed"
    },
    "tags": []
   },
   "outputs": [
    {
     "name": "stdout",
     "output_type": "stream",
     "text": [
      "[1 2 3 4 5]\n",
      "1\n",
      "[3 4]\n",
      "[3 4 5 6 7]\n",
      "[ 3  6  9 12 15]\n",
      "[1.         1.41421356 1.73205081 2.         2.23606798]\n"
     ]
    }
   ],
   "source": [
    "# create a 1D NumPy array\n",
    "a = np.array([1, 2, 3, 4, 5])\n",
    "\n",
    "# print the array\n",
    "print(a)\n",
    "\n",
    "# access elements of the array\n",
    "print(a[0])\n",
    "print(a[2:4])\n",
    "\n",
    "# perform operations on the array\n",
    "print(a + 2)\n",
    "print(a * 3)\n",
    "print(np.sqrt(a))"
   ]
  },
  {
   "cell_type": "code",
   "execution_count": 3,
   "id": "fb67609c",
   "metadata": {
    "execution": {
     "iopub.execute_input": "2023-03-10T15:22:56.139714Z",
     "iopub.status.busy": "2023-03-10T15:22:56.138887Z",
     "iopub.status.idle": "2023-03-10T15:22:56.148660Z",
     "shell.execute_reply": "2023-03-10T15:22:56.147311Z"
    },
    "papermill": {
     "duration": 0.022274,
     "end_time": "2023-03-10T15:22:56.151654",
     "exception": false,
     "start_time": "2023-03-10T15:22:56.129380",
     "status": "completed"
    },
    "tags": []
   },
   "outputs": [
    {
     "name": "stdout",
     "output_type": "stream",
     "text": [
      "[[1 2 3]\n",
      " [4 5 6]\n",
      " [7 8 9]]\n",
      "2\n",
      "[[4 5]\n",
      " [7 8]]\n",
      "[[ 3  4  5]\n",
      " [ 6  7  8]\n",
      " [ 9 10 11]]\n",
      "[[ 3  6  9]\n",
      " [12 15 18]\n",
      " [21 24 27]]\n",
      "[[1.         1.41421356 1.73205081]\n",
      " [2.         2.23606798 2.44948974]\n",
      " [2.64575131 2.82842712 3.        ]]\n"
     ]
    }
   ],
   "source": [
    "# create a 2D NumPy array\n",
    "b = np.array([[1, 2, 3], [4, 5, 6], [7, 8, 9]])\n",
    "\n",
    "# print the array\n",
    "print(b)\n",
    "\n",
    "# access elements of the array\n",
    "print(b[0, 1])\n",
    "print(b[1:3, 0:2])\n",
    "\n",
    "# perform operations on the array\n",
    "print(b + 2)\n",
    "print(b * 3)\n",
    "print(np.sqrt(b))"
   ]
  },
  {
   "cell_type": "code",
   "execution_count": 4,
   "id": "56d3ff27",
   "metadata": {
    "execution": {
     "iopub.execute_input": "2023-03-10T15:22:56.170016Z",
     "iopub.status.busy": "2023-03-10T15:22:56.168932Z",
     "iopub.status.idle": "2023-03-10T15:22:56.178487Z",
     "shell.execute_reply": "2023-03-10T15:22:56.176884Z"
    },
    "papermill": {
     "duration": 0.02187,
     "end_time": "2023-03-10T15:22:56.181362",
     "exception": false,
     "start_time": "2023-03-10T15:22:56.159492",
     "status": "completed"
    },
    "tags": []
   },
   "outputs": [
    {
     "name": "stdout",
     "output_type": "stream",
     "text": [
      "3.0\n",
      "1.4142135623730951\n",
      "15\n",
      "5\n",
      "1\n"
     ]
    }
   ],
   "source": [
    "# create a NumPy array\n",
    "c = np.array([1, 2, 3, 4, 5])\n",
    "\n",
    "# calculate the mean of the array\n",
    "print(np.mean(c))\n",
    "\n",
    "# calculate the standard deviation of the array\n",
    "print(np.std(c))\n",
    "\n",
    "# calculate the sum of the array\n",
    "print(np.sum(c))\n",
    "\n",
    "# calculate the maximum and minimum values of the array\n",
    "print(np.max(c))\n",
    "print(np.min(c))"
   ]
  },
  {
   "cell_type": "code",
   "execution_count": 5,
   "id": "9172d7ff",
   "metadata": {
    "execution": {
     "iopub.execute_input": "2023-03-10T15:22:56.199288Z",
     "iopub.status.busy": "2023-03-10T15:22:56.198504Z",
     "iopub.status.idle": "2023-03-10T15:22:56.205083Z",
     "shell.execute_reply": "2023-03-10T15:22:56.204046Z"
    },
    "papermill": {
     "duration": 0.018626,
     "end_time": "2023-03-10T15:22:56.207723",
     "exception": false,
     "start_time": "2023-03-10T15:22:56.189097",
     "status": "completed"
    },
    "tags": []
   },
   "outputs": [],
   "source": [
    "array3= np.array([[\"W\",\"o\",\"a\",\"!\"],[\"You\",\"Are\",\"Crazy\",\"today!\"]])"
   ]
  },
  {
   "cell_type": "code",
   "execution_count": 6,
   "id": "263de3bb",
   "metadata": {
    "execution": {
     "iopub.execute_input": "2023-03-10T15:22:56.226229Z",
     "iopub.status.busy": "2023-03-10T15:22:56.225756Z",
     "iopub.status.idle": "2023-03-10T15:22:56.231924Z",
     "shell.execute_reply": "2023-03-10T15:22:56.230650Z"
    },
    "papermill": {
     "duration": 0.019925,
     "end_time": "2023-03-10T15:22:56.236037",
     "exception": false,
     "start_time": "2023-03-10T15:22:56.216112",
     "status": "completed"
    },
    "tags": []
   },
   "outputs": [
    {
     "name": "stdout",
     "output_type": "stream",
     "text": [
      "[['W' 'o' 'a' '!']\n",
      " ['You' 'Are' 'Crazy' 'today!']]\n"
     ]
    }
   ],
   "source": [
    "print(array3)"
   ]
  },
  {
   "cell_type": "code",
   "execution_count": 7,
   "id": "5376e932",
   "metadata": {
    "execution": {
     "iopub.execute_input": "2023-03-10T15:22:56.255164Z",
     "iopub.status.busy": "2023-03-10T15:22:56.253654Z",
     "iopub.status.idle": "2023-03-10T15:22:56.263212Z",
     "shell.execute_reply": "2023-03-10T15:22:56.262272Z"
    },
    "papermill": {
     "duration": 0.022186,
     "end_time": "2023-03-10T15:22:56.266380",
     "exception": false,
     "start_time": "2023-03-10T15:22:56.244194",
     "status": "completed"
    },
    "tags": []
   },
   "outputs": [
    {
     "data": {
      "text/plain": [
       "(2, 4)"
      ]
     },
     "execution_count": 7,
     "metadata": {},
     "output_type": "execute_result"
    }
   ],
   "source": [
    "array3.shape"
   ]
  },
  {
   "cell_type": "code",
   "execution_count": 8,
   "id": "f24e2969",
   "metadata": {
    "execution": {
     "iopub.execute_input": "2023-03-10T15:22:56.287671Z",
     "iopub.status.busy": "2023-03-10T15:22:56.286099Z",
     "iopub.status.idle": "2023-03-10T15:22:56.292309Z",
     "shell.execute_reply": "2023-03-10T15:22:56.291122Z"
    },
    "papermill": {
     "duration": 0.018503,
     "end_time": "2023-03-10T15:22:56.294847",
     "exception": false,
     "start_time": "2023-03-10T15:22:56.276344",
     "status": "completed"
    },
    "tags": []
   },
   "outputs": [],
   "source": [
    "zeros= np.zeros((2,6))"
   ]
  },
  {
   "cell_type": "code",
   "execution_count": 9,
   "id": "c18c8cbd",
   "metadata": {
    "execution": {
     "iopub.execute_input": "2023-03-10T15:22:56.313623Z",
     "iopub.status.busy": "2023-03-10T15:22:56.312667Z",
     "iopub.status.idle": "2023-03-10T15:22:56.319222Z",
     "shell.execute_reply": "2023-03-10T15:22:56.318171Z"
    },
    "papermill": {
     "duration": 0.018633,
     "end_time": "2023-03-10T15:22:56.321613",
     "exception": false,
     "start_time": "2023-03-10T15:22:56.302980",
     "status": "completed"
    },
    "tags": []
   },
   "outputs": [
    {
     "name": "stdout",
     "output_type": "stream",
     "text": [
      "[[0. 0. 0. 0. 0. 0.]\n",
      " [0. 0. 0. 0. 0. 0.]]\n"
     ]
    }
   ],
   "source": [
    "print(zeros)"
   ]
  },
  {
   "cell_type": "code",
   "execution_count": 10,
   "id": "edefefec",
   "metadata": {
    "execution": {
     "iopub.execute_input": "2023-03-10T15:22:56.340797Z",
     "iopub.status.busy": "2023-03-10T15:22:56.339922Z",
     "iopub.status.idle": "2023-03-10T15:22:56.347733Z",
     "shell.execute_reply": "2023-03-10T15:22:56.346137Z"
    },
    "papermill": {
     "duration": 0.020929,
     "end_time": "2023-03-10T15:22:56.350686",
     "exception": false,
     "start_time": "2023-03-10T15:22:56.329757",
     "status": "completed"
    },
    "tags": []
   },
   "outputs": [
    {
     "name": "stdout",
     "output_type": "stream",
     "text": [
      "[[2. 0. 0. 0. 0. 0.]\n",
      " [0. 0. 0. 0. 0. 0.]]\n"
     ]
    }
   ],
   "source": [
    "zeros[0,0]=2\n",
    "print(zeros)"
   ]
  },
  {
   "cell_type": "code",
   "execution_count": 11,
   "id": "779b54d8",
   "metadata": {
    "execution": {
     "iopub.execute_input": "2023-03-10T15:22:56.369460Z",
     "iopub.status.busy": "2023-03-10T15:22:56.368637Z",
     "iopub.status.idle": "2023-03-10T15:22:56.375663Z",
     "shell.execute_reply": "2023-03-10T15:22:56.374655Z"
    },
    "papermill": {
     "duration": 0.019752,
     "end_time": "2023-03-10T15:22:56.378639",
     "exception": false,
     "start_time": "2023-03-10T15:22:56.358887",
     "status": "completed"
    },
    "tags": []
   },
   "outputs": [
    {
     "name": "stdout",
     "output_type": "stream",
     "text": [
      "[[1. 1. 1. 1. 1.]\n",
      " [1. 1. 1. 1. 1.]\n",
      " [1. 1. 1. 1. 1.]\n",
      " [1. 1. 1. 1. 1.]\n",
      " [1. 1. 1. 1. 1.]\n",
      " [1. 1. 1. 1. 1.]\n",
      " [1. 1. 1. 1. 1.]\n",
      " [1. 1. 1. 1. 1.]]\n"
     ]
    }
   ],
   "source": [
    "ones = np.ones((8,5))\n",
    "print(ones)"
   ]
  },
  {
   "cell_type": "code",
   "execution_count": null,
   "id": "24cfa6e0",
   "metadata": {
    "papermill": {
     "duration": 0.007715,
     "end_time": "2023-03-10T15:22:56.396238",
     "exception": false,
     "start_time": "2023-03-10T15:22:56.388523",
     "status": "completed"
    },
    "tags": []
   },
   "outputs": [],
   "source": []
  },
  {
   "cell_type": "code",
   "execution_count": null,
   "id": "737fc6d4",
   "metadata": {
    "papermill": {
     "duration": 0.007743,
     "end_time": "2023-03-10T15:22:56.412134",
     "exception": false,
     "start_time": "2023-03-10T15:22:56.404391",
     "status": "completed"
    },
    "tags": []
   },
   "outputs": [],
   "source": []
  },
  {
   "cell_type": "code",
   "execution_count": null,
   "id": "2f550880",
   "metadata": {
    "papermill": {
     "duration": 0.007823,
     "end_time": "2023-03-10T15:22:56.428488",
     "exception": false,
     "start_time": "2023-03-10T15:22:56.420665",
     "status": "completed"
    },
    "tags": []
   },
   "outputs": [],
   "source": []
  },
  {
   "cell_type": "code",
   "execution_count": null,
   "id": "6c22a416",
   "metadata": {
    "papermill": {
     "duration": 0.007866,
     "end_time": "2023-03-10T15:22:56.444881",
     "exception": false,
     "start_time": "2023-03-10T15:22:56.437015",
     "status": "completed"
    },
    "tags": []
   },
   "outputs": [],
   "source": []
  },
  {
   "cell_type": "code",
   "execution_count": null,
   "id": "4d283032",
   "metadata": {
    "papermill": {
     "duration": 0.007768,
     "end_time": "2023-03-10T15:22:56.460741",
     "exception": false,
     "start_time": "2023-03-10T15:22:56.452973",
     "status": "completed"
    },
    "tags": []
   },
   "outputs": [],
   "source": []
  },
  {
   "cell_type": "code",
   "execution_count": null,
   "id": "7e4ad1c9",
   "metadata": {
    "papermill": {
     "duration": 0.007693,
     "end_time": "2023-03-10T15:22:56.476474",
     "exception": false,
     "start_time": "2023-03-10T15:22:56.468781",
     "status": "completed"
    },
    "tags": []
   },
   "outputs": [],
   "source": []
  },
  {
   "cell_type": "code",
   "execution_count": null,
   "id": "81a0928c",
   "metadata": {
    "papermill": {
     "duration": 0.007686,
     "end_time": "2023-03-10T15:22:56.492349",
     "exception": false,
     "start_time": "2023-03-10T15:22:56.484663",
     "status": "completed"
    },
    "tags": []
   },
   "outputs": [],
   "source": []
  },
  {
   "cell_type": "code",
   "execution_count": null,
   "id": "3f8ebee3",
   "metadata": {
    "papermill": {
     "duration": 0.007566,
     "end_time": "2023-03-10T15:22:56.507848",
     "exception": false,
     "start_time": "2023-03-10T15:22:56.500282",
     "status": "completed"
    },
    "tags": []
   },
   "outputs": [],
   "source": []
  },
  {
   "cell_type": "code",
   "execution_count": null,
   "id": "aea2f110",
   "metadata": {
    "papermill": {
     "duration": 0.007719,
     "end_time": "2023-03-10T15:22:56.523528",
     "exception": false,
     "start_time": "2023-03-10T15:22:56.515809",
     "status": "completed"
    },
    "tags": []
   },
   "outputs": [],
   "source": []
  },
  {
   "cell_type": "code",
   "execution_count": null,
   "id": "91c232e9",
   "metadata": {
    "papermill": {
     "duration": 0.007623,
     "end_time": "2023-03-10T15:22:56.539284",
     "exception": false,
     "start_time": "2023-03-10T15:22:56.531661",
     "status": "completed"
    },
    "tags": []
   },
   "outputs": [],
   "source": []
  },
  {
   "cell_type": "code",
   "execution_count": null,
   "id": "14596e02",
   "metadata": {
    "papermill": {
     "duration": 0.007862,
     "end_time": "2023-03-10T15:22:56.555406",
     "exception": false,
     "start_time": "2023-03-10T15:22:56.547544",
     "status": "completed"
    },
    "tags": []
   },
   "outputs": [],
   "source": []
  },
  {
   "cell_type": "code",
   "execution_count": null,
   "id": "e2167ce6",
   "metadata": {
    "papermill": {
     "duration": 0.007651,
     "end_time": "2023-03-10T15:22:56.571169",
     "exception": false,
     "start_time": "2023-03-10T15:22:56.563518",
     "status": "completed"
    },
    "tags": []
   },
   "outputs": [],
   "source": []
  },
  {
   "cell_type": "code",
   "execution_count": null,
   "id": "d867ca46",
   "metadata": {
    "papermill": {
     "duration": 0.007728,
     "end_time": "2023-03-10T15:22:56.587228",
     "exception": false,
     "start_time": "2023-03-10T15:22:56.579500",
     "status": "completed"
    },
    "tags": []
   },
   "outputs": [],
   "source": []
  },
  {
   "cell_type": "code",
   "execution_count": null,
   "id": "844cc782",
   "metadata": {
    "papermill": {
     "duration": 0.007874,
     "end_time": "2023-03-10T15:22:56.603325",
     "exception": false,
     "start_time": "2023-03-10T15:22:56.595451",
     "status": "completed"
    },
    "tags": []
   },
   "outputs": [],
   "source": []
  },
  {
   "cell_type": "code",
   "execution_count": null,
   "id": "0b6e233d",
   "metadata": {
    "papermill": {
     "duration": 0.007842,
     "end_time": "2023-03-10T15:22:56.619325",
     "exception": false,
     "start_time": "2023-03-10T15:22:56.611483",
     "status": "completed"
    },
    "tags": []
   },
   "outputs": [],
   "source": []
  },
  {
   "cell_type": "code",
   "execution_count": null,
   "id": "91fba906",
   "metadata": {
    "papermill": {
     "duration": 0.007633,
     "end_time": "2023-03-10T15:22:56.635193",
     "exception": false,
     "start_time": "2023-03-10T15:22:56.627560",
     "status": "completed"
    },
    "tags": []
   },
   "outputs": [],
   "source": []
  },
  {
   "cell_type": "code",
   "execution_count": null,
   "id": "32faa679",
   "metadata": {
    "papermill": {
     "duration": 0.008119,
     "end_time": "2023-03-10T15:22:56.651714",
     "exception": false,
     "start_time": "2023-03-10T15:22:56.643595",
     "status": "completed"
    },
    "tags": []
   },
   "outputs": [],
   "source": []
  },
  {
   "cell_type": "code",
   "execution_count": null,
   "id": "019cd011",
   "metadata": {
    "papermill": {
     "duration": 0.008523,
     "end_time": "2023-03-10T15:22:56.668554",
     "exception": false,
     "start_time": "2023-03-10T15:22:56.660031",
     "status": "completed"
    },
    "tags": []
   },
   "outputs": [],
   "source": []
  },
  {
   "cell_type": "code",
   "execution_count": null,
   "id": "e68048f8",
   "metadata": {
    "papermill": {
     "duration": 0.00787,
     "end_time": "2023-03-10T15:22:56.684712",
     "exception": false,
     "start_time": "2023-03-10T15:22:56.676842",
     "status": "completed"
    },
    "tags": []
   },
   "outputs": [],
   "source": []
  },
  {
   "cell_type": "code",
   "execution_count": null,
   "id": "1ee2f54f",
   "metadata": {
    "papermill": {
     "duration": 0.007839,
     "end_time": "2023-03-10T15:22:56.700661",
     "exception": false,
     "start_time": "2023-03-10T15:22:56.692822",
     "status": "completed"
    },
    "tags": []
   },
   "outputs": [],
   "source": []
  },
  {
   "cell_type": "code",
   "execution_count": null,
   "id": "2cfa8bef",
   "metadata": {
    "papermill": {
     "duration": 0.008653,
     "end_time": "2023-03-10T15:22:56.717488",
     "exception": false,
     "start_time": "2023-03-10T15:22:56.708835",
     "status": "completed"
    },
    "tags": []
   },
   "outputs": [],
   "source": []
  },
  {
   "cell_type": "code",
   "execution_count": null,
   "id": "942bd837",
   "metadata": {
    "papermill": {
     "duration": 0.008466,
     "end_time": "2023-03-10T15:22:56.735286",
     "exception": false,
     "start_time": "2023-03-10T15:22:56.726820",
     "status": "completed"
    },
    "tags": []
   },
   "outputs": [],
   "source": []
  },
  {
   "cell_type": "code",
   "execution_count": null,
   "id": "483e26e2",
   "metadata": {
    "papermill": {
     "duration": 0.007761,
     "end_time": "2023-03-10T15:22:56.751415",
     "exception": false,
     "start_time": "2023-03-10T15:22:56.743654",
     "status": "completed"
    },
    "tags": []
   },
   "outputs": [],
   "source": []
  },
  {
   "cell_type": "code",
   "execution_count": null,
   "id": "3b12dea8",
   "metadata": {
    "papermill": {
     "duration": 0.007582,
     "end_time": "2023-03-10T15:22:56.767032",
     "exception": false,
     "start_time": "2023-03-10T15:22:56.759450",
     "status": "completed"
    },
    "tags": []
   },
   "outputs": [],
   "source": []
  },
  {
   "cell_type": "code",
   "execution_count": null,
   "id": "d4dcf327",
   "metadata": {
    "papermill": {
     "duration": 0.007666,
     "end_time": "2023-03-10T15:22:56.782922",
     "exception": false,
     "start_time": "2023-03-10T15:22:56.775256",
     "status": "completed"
    },
    "tags": []
   },
   "outputs": [],
   "source": []
  }
 ],
 "metadata": {
  "kernelspec": {
   "display_name": "Python 3",
   "language": "python",
   "name": "python3"
  },
  "language_info": {
   "codemirror_mode": {
    "name": "ipython",
    "version": 3
   },
   "file_extension": ".py",
   "mimetype": "text/x-python",
   "name": "python",
   "nbconvert_exporter": "python",
   "pygments_lexer": "ipython3",
   "version": "3.7.12"
  },
  "papermill": {
   "default_parameters": {},
   "duration": 13.484794,
   "end_time": "2023-03-10T15:22:57.816258",
   "environment_variables": {},
   "exception": null,
   "input_path": "__notebook__.ipynb",
   "output_path": "__notebook__.ipynb",
   "parameters": {},
   "start_time": "2023-03-10T15:22:44.331464",
   "version": "2.4.0"
  }
 },
 "nbformat": 4,
 "nbformat_minor": 5
}
