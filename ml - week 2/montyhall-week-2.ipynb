{
 "cells": [
  {
   "cell_type": "code",
   "execution_count": 1,
   "id": "e9ad8d45",
   "metadata": {
    "execution": {
     "iopub.execute_input": "2023-03-10T15:15:48.611366Z",
     "iopub.status.busy": "2023-03-10T15:15:48.610891Z",
     "iopub.status.idle": "2023-03-10T15:15:49.852479Z",
     "shell.execute_reply": "2023-03-10T15:15:49.850860Z"
    },
    "papermill": {
     "duration": 1.250789,
     "end_time": "2023-03-10T15:15:49.855854",
     "exception": false,
     "start_time": "2023-03-10T15:15:48.605065",
     "status": "completed"
    },
    "tags": []
   },
   "outputs": [],
   "source": [
    "from sklearn.utils import shuffle\n",
    "import numpy as np\n",
    "import random"
   ]
  },
  {
   "cell_type": "code",
   "execution_count": 2,
   "id": "b3b2e2aa",
   "metadata": {
    "execution": {
     "iopub.execute_input": "2023-03-10T15:15:49.863743Z",
     "iopub.status.busy": "2023-03-10T15:15:49.863179Z",
     "iopub.status.idle": "2023-03-10T15:15:49.872162Z",
     "shell.execute_reply": "2023-03-10T15:15:49.870783Z"
    },
    "papermill": {
     "duration": 0.016018,
     "end_time": "2023-03-10T15:15:49.874776",
     "exception": false,
     "start_time": "2023-03-10T15:15:49.858758",
     "status": "completed"
    },
    "tags": []
   },
   "outputs": [],
   "source": [
    "def monty_hall_game(guess):\n",
    "    # assign a random door to the car\n",
    "    car = random.randint(1, 3)\n",
    "    \n",
    "    # determine which door Monty will open\n",
    "    # Monty won't open the door with the car or the player's guess\n",
    "    if guess == car:\n",
    "        doors = [1, 2, 3]\n",
    "        doors.remove(guess)\n",
    "        monty_open = random.choice(doors)\n",
    "    else:\n",
    "        monty_open = 6 - guess - car\n",
    "    \n",
    "    # determine if the player wants to switch their guess\n",
    "    switch = random.choice([True, False])\n",
    "    if switch:\n",
    "        new_guess = 6 - guess - monty_open\n",
    "        guess = new_guess\n",
    "        \n",
    "    # determine if the player won or lost\n",
    "    if guess == car:\n",
    "        return True\n",
    "    else:\n",
    "        return False"
   ]
  },
  {
   "cell_type": "code",
   "execution_count": 3,
   "id": "04ab4ee8",
   "metadata": {
    "execution": {
     "iopub.execute_input": "2023-03-10T15:15:49.881828Z",
     "iopub.status.busy": "2023-03-10T15:15:49.881326Z",
     "iopub.status.idle": "2023-03-10T15:15:49.975864Z",
     "shell.execute_reply": "2023-03-10T15:15:49.974401Z"
    },
    "papermill": {
     "duration": 0.101573,
     "end_time": "2023-03-10T15:15:49.978906",
     "exception": false,
     "start_time": "2023-03-10T15:15:49.877333",
     "status": "completed"
    },
    "tags": []
   },
   "outputs": [
    {
     "name": "stdout",
     "output_type": "stream",
     "text": [
      "Percentage of wins if staying: 49.64%\n",
      "Percentage of wins if switching: 50.63%\n"
     ]
    }
   ],
   "source": [
    "num_games = 10000\n",
    "switch_wins = 0\n",
    "stay_wins = 0\n",
    "\n",
    "for i in range(num_games):\n",
    "    # simulate a game with a random initial guess\n",
    "    guess = random.randint(1, 3)\n",
    "    if monty_hall_game(guess):\n",
    "        stay_wins += 1\n",
    "        \n",
    "    # simulate a game with switching the initial guess\n",
    "    if monty_hall_game(guess):\n",
    "        switch_wins += 1\n",
    "\n",
    "stay_win_percentage = stay_wins / num_games * 100\n",
    "switch_win_percentage = switch_wins / num_games * 100\n",
    "\n",
    "print(f\"Percentage of wins if staying: {stay_win_percentage:.2f}%\")\n",
    "print(f\"Percentage of wins if switching: {switch_win_percentage:.2f}%\")"
   ]
  },
  {
   "cell_type": "code",
   "execution_count": null,
   "id": "5e92ec8f",
   "metadata": {
    "papermill": {
     "duration": 0.002104,
     "end_time": "2023-03-10T15:15:49.983669",
     "exception": false,
     "start_time": "2023-03-10T15:15:49.981565",
     "status": "completed"
    },
    "tags": []
   },
   "outputs": [],
   "source": []
  },
  {
   "cell_type": "markdown",
   "id": "d7e0c402",
   "metadata": {
    "papermill": {
     "duration": 0.002049,
     "end_time": "2023-03-10T15:15:49.987967",
     "exception": false,
     "start_time": "2023-03-10T15:15:49.985918",
     "status": "completed"
    },
    "tags": []
   },
   "source": [
    "The probability of winning the car if you stick with door B is 1/3, which is approximately 33.33%.\n",
    "\n",
    "The probability of winning the car if you switch to the remaining door is 2/3, which is approximately 66.67%.\n",
    "\n",
    "Therefore, switching doors gives you a 66.67% chance of winning the car, which is twice as high as the 33.33% chance you have if you stick with your initial choice."
   ]
  }
 ],
 "metadata": {
  "kernelspec": {
   "display_name": "Python 3",
   "language": "python",
   "name": "python3"
  },
  "language_info": {
   "codemirror_mode": {
    "name": "ipython",
    "version": 3
   },
   "file_extension": ".py",
   "mimetype": "text/x-python",
   "name": "python",
   "nbconvert_exporter": "python",
   "pygments_lexer": "ipython3",
   "version": "3.7.12"
  },
  "papermill": {
   "default_parameters": {},
   "duration": 14.303706,
   "end_time": "2023-03-10T15:15:51.116850",
   "environment_variables": {},
   "exception": null,
   "input_path": "__notebook__.ipynb",
   "output_path": "__notebook__.ipynb",
   "parameters": {},
   "start_time": "2023-03-10T15:15:36.813144",
   "version": "2.4.0"
  }
 },
 "nbformat": 4,
 "nbformat_minor": 5
}
