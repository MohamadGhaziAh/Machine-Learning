{
 "cells": [
  {
   "cell_type": "markdown",
   "id": "52e9e63a",
   "metadata": {},
   "source": [
    "** intro **"
   ]
  },
  {
   "cell_type": "code",
   "execution_count": 1,
   "id": "07702be4",
   "metadata": {},
   "outputs": [
    {
     "data": {
      "text/plain": [
       "list"
      ]
     },
     "execution_count": 1,
     "metadata": {},
     "output_type": "execute_result"
    }
   ],
   "source": [
    "var1 = 10 \n",
    "var2 = 12\n",
    "var3 = 14\n",
    "list_int = [var1,var2,var3]\n",
    "\n",
    "type(list_int)"
   ]
  },
  {
   "cell_type": "code",
   "execution_count": 2,
   "id": "ea93caf8",
   "metadata": {},
   "outputs": [
    {
     "data": {
      "text/plain": [
       "10"
      ]
     },
     "execution_count": 2,
     "metadata": {},
     "output_type": "execute_result"
    }
   ],
   "source": [
    "list_int[0]"
   ]
  },
  {
   "cell_type": "code",
   "execution_count": 3,
   "id": "c40263e2",
   "metadata": {},
   "outputs": [
    {
     "data": {
      "text/plain": [
       "[12, 14]"
      ]
     },
     "execution_count": 3,
     "metadata": {},
     "output_type": "execute_result"
    }
   ],
   "source": [
    "list_int[1:3]"
   ]
  },
  {
   "cell_type": "code",
   "execution_count": 4,
   "id": "10dc63f3",
   "metadata": {},
   "outputs": [
    {
     "name": "stdout",
     "output_type": "stream",
     "text": [
      "10\n",
      "10\n",
      "10\n",
      "10\n",
      "10\n",
      "10\n",
      "10\n",
      "10\n",
      "10\n",
      "10\n"
     ]
    }
   ],
   "source": [
    "for i in range(10):\n",
    "    print(var1)"
   ]
  },
  {
   "cell_type": "code",
   "execution_count": 5,
   "id": "eef580d4",
   "metadata": {},
   "outputs": [],
   "source": [
    "list_int.reverse()"
   ]
  },
  {
   "cell_type": "code",
   "execution_count": 6,
   "id": "5733d3f5",
   "metadata": {},
   "outputs": [
    {
     "name": "stdout",
     "output_type": "stream",
     "text": [
      "[14, 12, 10]\n"
     ]
    }
   ],
   "source": [
    "print(list_int)"
   ]
  },
  {
   "cell_type": "code",
   "execution_count": 7,
   "id": "97c89293",
   "metadata": {},
   "outputs": [
    {
     "name": "stdout",
     "output_type": "stream",
     "text": [
      "[10, 12, 14]\n"
     ]
    }
   ],
   "source": [
    "list_int.reverse()\n",
    "print(list_int)"
   ]
  },
  {
   "cell_type": "code",
   "execution_count": 8,
   "id": "68ab7d9a",
   "metadata": {},
   "outputs": [],
   "source": [
    "def calculate_marks_statistics(marks):\n",
    "    # Check if the marks list is not empty\n",
    "    if not marks:\n",
    "        return None\n",
    "    \n",
    "    # Initialize variables to hold the sum, count, highest, and lowest marks\n",
    "    total = 0\n",
    "    count = 0\n",
    "    highest_mark = float('-inf')\n",
    "    lowest_mark = float('inf')\n",
    "    \n",
    "    # Iterate over each mark in the list\n",
    "    for mark in marks:\n",
    "        # Add the mark to the total sum\n",
    "        total += mark\n",
    "        \n",
    "        # Increment the count of marks\n",
    "        count += 1\n",
    "        \n",
    "        # Update the highest and lowest marks if the current mark is higher or lower\n",
    "        if mark > highest_mark:\n",
    "            highest_mark = mark\n",
    "        if mark < lowest_mark:\n",
    "            lowest_mark = mark\n",
    "    \n",
    "    # Calculate the average mark by dividing the total sum by the count\n",
    "    average_mark = total / count\n",
    "    \n",
    "    # Return a tuple containing the average mark, highest mark, and lowest mark\n",
    "    return (average_mark, highest_mark, lowest_mark)\n"
   ]
  },
  {
   "cell_type": "code",
   "execution_count": 9,
   "id": "3b87f24a",
   "metadata": {},
   "outputs": [
    {
     "name": "stdout",
     "output_type": "stream",
     "text": [
      "Average mark: 78.0\n",
      "Highest mark: 90\n",
      "Lowest mark: 60\n"
     ]
    }
   ],
   "source": [
    "# Create a list of marks\n",
    "marks = [80, 75, 90, 60, 85]\n",
    "\n",
    "# Call the function to calculate the statistics\n",
    "average, highest, lowest = calculate_marks_statistics(marks)\n",
    "\n",
    "# Print the results\n",
    "print(\"Average mark:\", average)\n",
    "print(\"Highest mark:\", highest)\n",
    "print(\"Lowest mark:\", lowest)"
   ]
  },
  {
   "cell_type": "code",
   "execution_count": null,
   "id": "7c9ec529",
   "metadata": {},
   "outputs": [],
   "source": []
  }
 ],
 "metadata": {
  "kernelspec": {
   "display_name": "Python 3 (ipykernel)",
   "language": "python",
   "name": "python3"
  },
  "language_info": {
   "codemirror_mode": {
    "name": "ipython",
    "version": 3
   },
   "file_extension": ".py",
   "mimetype": "text/x-python",
   "name": "python",
   "nbconvert_exporter": "python",
   "pygments_lexer": "ipython3",
   "version": "3.9.13"
  }
 },
 "nbformat": 4,
 "nbformat_minor": 5
}
